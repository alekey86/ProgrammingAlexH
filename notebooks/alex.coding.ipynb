{
 "cells": [
  {
   "cell_type": "code",
   "execution_count": null,
   "metadata": {},
   "outputs": [],
   "source": [
    "for i in range (30):\n",
    "    print(i)"
   ]
  },
  {
   "cell_type": "code",
   "execution_count": 2,
   "metadata": {},
   "outputs": [
    {
     "name": "stdout",
     "output_type": "stream",
     "text": [
      "cat\n",
      "mouse\n",
      "0 one digit\n",
      "1 one digit\n",
      "2 one digit\n",
      "3 one digit\n",
      "4 one digit\n",
      "5 one digit\n",
      "6 one digit\n",
      "7 one digit\n",
      "8 one digit\n",
      "9 one digit\n",
      "10\n",
      "11\n",
      "12\n",
      "13\n",
      "14\n",
      "15\n"
     ]
    }
   ],
   "source": [
    "animals = [\"dog\", \"cat\", \"mouse\"]\n",
    "for a in animals: \n",
    "    if a == \"dog\":\n",
    "        continue\n",
    "    print(a)\n",
    "for i in range(16):\n",
    "    if i < 10:\n",
    "        print(i, \"one digit\")\n",
    "    else:\n",
    "        print(i)\n"
   ]
  }
 ],
 "metadata": {
  "kernelspec": {
   "display_name": "Python 3",
   "language": "python",
   "name": "python3"
  },
  "language_info": {
   "codemirror_mode": {
    "name": "ipython",
    "version": 3
   },
   "file_extension": ".py",
   "mimetype": "text/x-python",
   "name": "python",
   "nbconvert_exporter": "python",
   "pygments_lexer": "ipython3",
   "version": "3.10.13"
  }
 },
 "nbformat": 4,
 "nbformat_minor": 2
}
