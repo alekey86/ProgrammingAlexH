{
 "cells": [
  {
   "cell_type": "code",
   "execution_count": 1,
   "metadata": {},
   "outputs": [
    {
     "name": "stdout",
     "output_type": "stream",
     "text": [
      "Richtig!\n",
      "Richtig!\n",
      "Richtig!\n",
      "Richtig!\n",
      "\n",
      "Quiz beendet! Du hast 4 von 4 Fragen richtig beantwortet.\n"
     ]
    }
   ],
   "source": [
    "questions = [\n",
    "    {\"question\": \"Wie lautet die Hauptstadt von Frankreich?\", \"answer\": \"Paris\"},\n",
    "    {\"question\": \"Wie viele Planeten hat unser Sonnensystem?\", \"answer\": \"8\"},\n",
    "    {\"question\": \"Wer ist der aktuelle Bundeskanzler?\", \"answer\": \"Olaf Scholz\"},\n",
    "    {\"question\": \"In welchem Land liegt der Berg Kilimandscharo?\", \"answer\": \"Tansania\"},\n",
    "]\n",
    "\n",
    "import random\n",
    "\n",
    "def run_quiz(questions):\n",
    "    score = 0\n",
    "    random.shuffle(questions)\n",
    "\n",
    "    for question_data in questions:\n",
    "        question = question_data[\"question\"]\n",
    "        correct_answer = question_data[\"answer\"]\n",
    "\n",
    "        user_answer = input(f\"{question}: \")\n",
    "\n",
    "        if user_answer.lower() == correct_answer.lower():\n",
    "            print(\"Richtig!\")\n",
    "            score += 1\n",
    "        else:\n",
    "            print(f\"Falsch! Die richtige Antwort ist: {correct_answer}\")\n",
    "\n",
    "    print(f\"\\nQuiz beendet! Du hast {score} von {len(questions)} Fragen richtig beantwortet.\")\n",
    "\n",
    "run_quiz(questions)"
   ]
  }
 ],
 "metadata": {
  "kernelspec": {
   "display_name": "Python 3",
   "language": "python",
   "name": "python3"
  },
  "language_info": {
   "codemirror_mode": {
    "name": "ipython",
    "version": 3
   },
   "file_extension": ".py",
   "mimetype": "text/x-python",
   "name": "python",
   "nbconvert_exporter": "python",
   "pygments_lexer": "ipython3",
   "version": "3.10.13"
  }
 },
 "nbformat": 4,
 "nbformat_minor": 2
}
