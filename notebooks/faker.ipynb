{
 "cells": [
  {
   "cell_type": "code",
   "execution_count": null,
   "metadata": {},
   "outputs": [],
   "source": [
    "from faker import Faker\n",
    "\n",
    "# Erstelle eine Instanz des Faker-Objekts\n",
    "faker = Faker()\n",
    "\n",
    "# Generiere einen zufälligen Namen\n",
    "name = faker.name()\n",
    "print(\"Name:\", name)\n",
    "\n",
    "# Generiere eine zufällige E-Mail-Adresse\n",
    "email = faker.email()\n",
    "print(\"E-Mail-Adresse:\", email)\n",
    "\n",
    "# Generiere eine zufällige Adresse\n",
    "adresse = faker.address()\n",
    "print(\"Adresse:\", adresse)\n",
    "\n",
    "# Generiere eine zufällige Telefonnummer\n",
    "telefonnummer = faker.phone_number()\n",
    "print(\"Telefonnummer:\", telefonnummer)"
   ]
  }
 ],
 "metadata": {
  "language_info": {
   "name": "python"
  }
 },
 "nbformat": 4,
 "nbformat_minor": 2
}
