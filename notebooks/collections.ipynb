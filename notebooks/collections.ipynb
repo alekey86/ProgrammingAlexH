{
 "cells": [
  {
   "cell_type": "code",
   "execution_count": 1,
   "metadata": {},
   "outputs": [
    {
     "name": "stdout",
     "output_type": "stream",
     "text": [
      "24\n",
      "2024-01-14\n",
      "('8', '14')\n",
      "['19', '8', '14', '5']\n"
     ]
    }
   ],
   "source": [
    "list1 = [\"5\", \"14\", \"8\", \"14\", \"19\"]\n",
    "\n",
    "transaction1 = { \n",
    "    \"type\":\"purchase\",\n",
    "    \"amount\":\"45\",\n",
    "    \"date\":\"2024-01-12\"\n",
    "}\n",
    " \n",
    "transaction2 = {\n",
    "    \"type\":\"purchase\",\n",
    "    \"amount\":\"24\",\n",
    "    \"date\":\"2024-01-14\"\n",
    "}\n",
    "\n",
    "transaction3 = {\n",
    "    \"type\":\"purchase\",\n",
    "    \"amount\":\"78\",\n",
    "    \"date\":\"2024-01-14\"\n",
    "}\n",
    "\n",
    "print(transaction2[\"amount\"])\n",
    "print(transaction3[\"date\"])\n",
    "\n",
    "def find_max_min(input_list):\n",
    "    return max(input_list), min(input_list)\n",
    "\n",
    "print(find_max_min(list1))\n",
    "\n",
    "def remove_duplicates(input_list):\n",
    "    return(list(set(input_list)))\n",
    "\n",
    "print(remove_duplicates(list1))\n"
   ]
  },
  {
   "cell_type": "code",
   "execution_count": null,
   "metadata": {},
   "outputs": [],
   "source": [
    "transactions =[\n",
    "    {'type':'purchase','amount':50,'date':'2024-01-15'},\n",
    "    {'type':'sale','amount':28,'date':'2024-01-16'},\n",
    "    {'type':'sale','amount':15,'date':'2024-01-16'},\n",
    "]\n",
    "\n",
    "transaction_type = transactions [0]['type']\n",
    "transaction_amount = transactions [0]['amount']\n",
    "transaction_date = transactions [0]['date']\n",
    "\n",
    "def list(my_key):\n",
    "    amount_values = [transaction['amount'] for transaction in transactions]\n",
    "\n",
    "print(list('amount'))\n"
   ]
  }
 ],
 "metadata": {
  "kernelspec": {
   "display_name": "Python 3",
   "language": "python",
   "name": "python3"
  },
  "language_info": {
   "codemirror_mode": {
    "name": "ipython",
    "version": 3
   },
   "file_extension": ".py",
   "mimetype": "text/x-python",
   "name": "python",
   "nbconvert_exporter": "python",
   "pygments_lexer": "ipython3",
   "version": "3.10.13"
  }
 },
 "nbformat": 4,
 "nbformat_minor": 2
}
