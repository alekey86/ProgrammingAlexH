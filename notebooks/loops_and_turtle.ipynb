{
 "cells": [
  {
   "cell_type": "code",
   "execution_count": null,
   "metadata": {},
   "outputs": [],
   "source": [
    "print(\"x\")\n",
    "print(\"x\", \"x\", \"x\", sep=\" \")\n",
    "print(\"x\",end=\"\")\n",
    "print(\"\"); print(\"\")\n",
    "\n",
    "\n",
    "for i in range(4):\n",
    "    print(i, \":X\")\n",
    "print(\"X\")\n",
    "print(\"\"); print(\"\")\n",
    "\n",
    "for i in  range(2):\n",
    "    for j in range(2):\n",
    "        print(\"y\", end=\".\")\n",
    "    print(\"\")\n",
    "print(\"\"); print(\"\")\n",
    "\n",
    "for i in range(6):\n",
    "    print(\"x\" * i)\n",
    "    \n",
    "for i in range(4, 0, -1):\n",
    "    print(\"x\" * i)"
   ]
  },
  {
   "cell_type": "code",
   "execution_count": null,
   "metadata": {},
   "outputs": [],
   "source": [
    "import turtle\n",
    "\n",
    "box = turtle.Turtle()\n",
    "box.color(\"red\")\n",
    "box.speed(0)\n",
    "\n",
    "for i in range(4):\n",
    "    box.forward(75)\n",
    "    box.right(90) \n",
    "\n",
    "for i in range(8):\n",
    "    box.forward(30)\n",
    "    box.left(45)\n",
    "\n",
    "for i in range(8):\n",
    "    box.forward(75)\n",
    "    box.left(45)\n",
    "    box.forward(75)\n",
    "    box.right(135)\n",
    "\n",
    "for j in range (1,100):\n",
    "  for i in range (1,6):\n",
    "      box.left(144)\n",
    "      box.forward(200)\n",
    "  box.left(5)\n",
    "\n",
    "turtle.exitonclick()   \n",
    "turtle.done\n",
    "\n"
   ]
  }
 ],
 "metadata": {
  "kernelspec": {
   "display_name": "Python 3",
   "language": "python",
   "name": "python3"
  },
  "language_info": {
   "codemirror_mode": {
    "name": "ipython",
    "version": 3
   },
   "file_extension": ".py",
   "mimetype": "text/x-python",
   "name": "python",
   "nbconvert_exporter": "python",
   "pygments_lexer": "ipython3",
   "version": "3.10.13"
  }
 },
 "nbformat": 4,
 "nbformat_minor": 2
}
